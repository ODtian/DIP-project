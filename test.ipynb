{
 "cells": [
  {
   "cell_type": "code",
   "execution_count": 3,
   "id": "c7f43b25",
   "metadata": {},
   "outputs": [
    {
     "name": "stdout",
     "output_type": "stream",
     "text": [
      "name=STIXSizeTwoSym, path=c:\\Users\\tianl\\AppData\\Local\\Programs\\Python\\Python313\\Lib\\site-packages\\matplotlib\\mpl-data\\fonts\\ttf\\STIXSizTwoSymBol.ttf\n",
      "name=STIXSizeTwoSym, path=c:\\Users\\tianl\\AppData\\Local\\Programs\\Python\\Python313\\Lib\\site-packages\\matplotlib\\mpl-data\\fonts\\ttf\\STIXSizTwoSymReg.ttf\n",
      "name=Tw Cen MT Condensed, path=C:\\Windows\\Fonts\\TCCM____.TTF\n",
      "name=Tw Cen MT, path=C:\\Windows\\Fonts\\TCBI____.TTF\n",
      "name=Bradley Hand ITC, path=C:\\Windows\\Fonts\\BRADHITC.TTF\n",
      "name=Tw Cen MT Condensed Extra Bold, path=C:\\Windows\\Fonts\\TCCEB.TTF\n",
      "name=Elephant, path=C:\\Windows\\Fonts\\ELEPHNT.TTF\n",
      "name=Source Han Sans, path=C:\\Users\\tianl\\AppData\\Local\\Microsoft\\Windows\\Fonts\\SourceHanSans.ttc\n",
      "name=Tw Cen MT, path=C:\\Windows\\Fonts\\TCB_____.TTF\n",
      "name=Elephant, path=C:\\Windows\\Fonts\\ELEPHNTI.TTF\n",
      "name=Tw Cen MT, path=C:\\Windows\\Fonts\\TCMI____.TTF\n",
      "name=Tw Cen MT Condensed, path=C:\\Windows\\Fonts\\TCCB____.TTF\n",
      "name=Tw Cen MT, path=C:\\Windows\\Fonts\\TCM_____.TTF\n",
      "name=Viner Hand ITC, path=C:\\Windows\\Fonts\\VINERITC.TTF\n",
      "name=Lucida Handwriting, path=C:\\Windows\\Fonts\\LHANDW.TTF\n"
     ]
    }
   ],
   "source": [
    "import matplotlib.font_manager as fm\n",
    "\n",
    "# fm.fontManager.ttflist\n",
    "# # matplotlib only know these fonts\n",
    "font_list = [f for f in fm.fontManager.ttflist]\n",
    "\n",
    "# check font names what you want\n",
    "cjk_list = ['CJK', 'Han', 'CN', 'TW']\n",
    "\n",
    "for f in font_list:\n",
    "    if any(s.lower() in f.name.lower() for s in cjk_list):\n",
    "        print(f'name={f.name}, path={f.fname}')"
   ]
  },
  {
   "cell_type": "code",
   "execution_count": 1,
   "id": "a8fe9d3e",
   "metadata": {},
   "outputs": [
    {
     "name": "stdout",
     "output_type": "stream",
     "text": [
      "原始数组形状: (2, 3, 4)\n",
      "原始数组:\n",
      " [[[ 0  1  2  3]\n",
      "  [ 4  5  6  7]\n",
      "  [ 8  9 10 11]]\n",
      "\n",
      " [[12 13 14 15]\n",
      "  [16 17 18 19]\n",
      "  [20 21 22 23]]]\n",
      "\n",
      "轴调换后形状: (3, 2, 4)\n",
      "轴调换后数组:\n",
      " [[[ 0  1  2  3]\n",
      "  [12 13 14 15]]\n",
      "\n",
      " [[ 4  5  6  7]\n",
      "  [16 17 18 19]]\n",
      "\n",
      " [[ 8  9 10 11]\n",
      "  [20 21 22 23]]]\n",
      "\n",
      "最终展平后形状: (3, 8)\n",
      "最终展平后数组:\n",
      " [[ 0  1  2  3 12 13 14 15]\n",
      " [ 4  5  6  7 16 17 18 19]\n",
      " [ 8  9 10 11 20 21 22 23]]\n"
     ]
    }
   ],
   "source": [
    "import numpy as np\n",
    "\n",
    "# 1. 创建一个示例三维数组\n",
    "# 形状为 (A, B, C) -> (2, 3, 4)\n",
    "arr_3d = np.arange(2 * 3 * 4).reshape((2, 3, 4))\n",
    "print(\"原始数组形状:\", arr_3d.shape)\n",
    "print(\"原始数组:\\n\", arr_3d)\n",
    "\n",
    "# 2. 轴调换 (Transpose)\n",
    "# 将第1维(B)移动到最前面，原始的第0维(A)和第2维(C)跟在后面。\n",
    "# 新的轴顺序是 (1, 0, 2)\n",
    "# 形状从 (2, 3, 4) -> (3, 2, 4)\n",
    "arr_transposed = arr_3d.transpose(1, 0, 2)\n",
    "print(\"\\n轴调换后形状:\", arr_transposed.shape)\n",
    "print(\"轴调换后数组:\\n\", arr_transposed)\n",
    "\n",
    "# 3. 形状重塑 (Reshape)\n",
    "# 保留第一个维度(B)，并将后面两个维度合并。\n",
    "# 使用 -1 可以让Numpy/JAX自动计算合并后的维度大小 (2 * 4 = 8)\n",
    "# 形状从 (3, 2, 4) -> (3, 8)\n",
    "arr_flattened = arr_transposed.reshape((arr_3d.shape[1], -1))\n",
    "print(\"\\n最终展平后形状:\", arr_flattened.shape)\n",
    "print(\"最终展平后数组:\\n\", arr_flattened)"
   ]
  }
 ],
 "metadata": {
  "kernelspec": {
   "display_name": "Python 3",
   "language": "python",
   "name": "python3"
  },
  "language_info": {
   "codemirror_mode": {
    "name": "ipython",
    "version": 3
   },
   "file_extension": ".py",
   "mimetype": "text/x-python",
   "name": "python",
   "nbconvert_exporter": "python",
   "pygments_lexer": "ipython3",
   "version": "3.13.3"
  }
 },
 "nbformat": 4,
 "nbformat_minor": 5
}
